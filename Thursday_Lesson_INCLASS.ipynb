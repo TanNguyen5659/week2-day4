{
 "cells": [
  {
   "cell_type": "markdown",
   "metadata": {},
   "source": [
    "# Object-Oriented-Programming (OOP)"
   ]
  },
  {
   "cell_type": "markdown",
   "metadata": {},
   "source": [
    "## Tasks Today:\n",
    "\n",
    "   \n",
    "\n",
    "1) <b>Creating a Class (Initializing/Declaring)</b> <br>\n",
    "2) <b>Using a Class (Instantiating)</b> <br>\n",
    " &nbsp;&nbsp;&nbsp;&nbsp; a) Creating One Instance <br>\n",
    " &nbsp;&nbsp;&nbsp;&nbsp; b) Creating Multiple Instances <br>\n",
    " &nbsp;&nbsp;&nbsp;&nbsp; c) In-Class Exercise #1 - Create a Class 'Car' and instantiate three different makes of cars <br>\n",
    "3) <b>The \\__init\\__() Method</b> <br>\n",
    " &nbsp;&nbsp;&nbsp;&nbsp; a) The 'self' Attribute <br>\n",
    "4) <b>Class Attributes</b> <br>\n",
    " &nbsp;&nbsp;&nbsp;&nbsp; a) Initializing Attributes <br>\n",
    " &nbsp;&nbsp;&nbsp;&nbsp; b) Setting an Attribute Outside of the \\__init\\__() Method <br>\n",
    " &nbsp;&nbsp;&nbsp;&nbsp; c) Setting Defaults for Attributes <br>\n",
    " &nbsp;&nbsp;&nbsp;&nbsp; d) Accessing Class Attributes <br>\n",
    " &nbsp;&nbsp;&nbsp;&nbsp; e) Changing Class Attributes <br>\n",
    " &nbsp;&nbsp;&nbsp;&nbsp; f) In-Class Exercise #2 - Add a color and wheels attribute to your 'Car' class <br>\n",
    "5) <b>Class Methods</b> <br>\n",
    " &nbsp;&nbsp;&nbsp;&nbsp; a) Creating <br>\n",
    " &nbsp;&nbsp;&nbsp;&nbsp; b) Calling <br>\n",
    " &nbsp;&nbsp;&nbsp;&nbsp; c) Modifying an Attribute's Value Through a Method <br>\n",
    " &nbsp;&nbsp;&nbsp;&nbsp; d) Incrementing an Attribute's Value Through a Method <br>\n",
    " &nbsp;&nbsp;&nbsp;&nbsp; e) In-Class Exercise #3 - Add a method that prints the cars color and wheel number, then call them <br>\n",
    "6) <b>Inheritance</b> <br>\n",
    " &nbsp;&nbsp;&nbsp;&nbsp; a) Syntax for Inheriting from a Parent Class <br>\n",
    " &nbsp;&nbsp;&nbsp;&nbsp; b) The \\__init\\__() Method for a Child Class (super()) <br>\n",
    " &nbsp;&nbsp;&nbsp;&nbsp; c) Defining Attributes and Methods for the Child Class <br>\n",
    " &nbsp;&nbsp;&nbsp;&nbsp; d) Method Overriding <br>\n",
    " &nbsp;&nbsp;&nbsp;&nbsp; e) In-Class Exercise #4 - Create a class 'Ford' that inherits from 'Car' class and initialize it as a Blue Ford Explorer with 4 wheels using the super() method <br>\n",
    "7) <b>Classes as Attributes</b> <br>\n",
    "8) <b>Exercises</b> <br>\n",
    " &nbsp;&nbsp;&nbsp;&nbsp; a) Exercise #1 - Turn the shopping cart program from yesterday into an object-oriented program <br>"
   ]
  },
  {
   "cell_type": "markdown",
   "metadata": {},
   "source": [
    "## Creating a Class (Initializing/Declaring)\n",
    "<p>When creating a class, function, or even a variable you are initializing that object. Initializing and Declaring occur at the same time in Python, whereas in lower level languages you have to declare an object before initializing it. This is the first step in the process of using a class.</p>"
   ]
  },
  {
   "cell_type": "code",
   "execution_count": 1,
   "metadata": {},
   "outputs": [],
   "source": [
    "class Car():\n",
    "    wheels = 4\n",
    "    color = 'blue'\n",
    "    \n",
    "class Truck():\n",
    "    wheels = 4\n",
    "    color = 'black'"
   ]
  },
  {
   "cell_type": "markdown",
   "metadata": {},
   "source": [
    "## Using a Class (Instantiating)\n",
    "<p>The process of creating a class is called <i>Instantiating</i>. Each time you create a variable of that type of class, it is referred to as an <i>Instance</i> of that class. This is the second step in the process of using a class.</p>"
   ]
  },
  {
   "cell_type": "markdown",
   "metadata": {},
   "source": [
    "##### Creating One Instance"
   ]
  },
  {
   "cell_type": "code",
   "execution_count": 2,
   "metadata": {},
   "outputs": [],
   "source": [
    "ford = Car()"
   ]
  },
  {
   "cell_type": "code",
   "execution_count": 5,
   "metadata": {},
   "outputs": [
    {
     "name": "stdout",
     "output_type": "stream",
     "text": [
      "<class '__main__.Car'>\n",
      "<__main__.Car object at 0x108d0ca50>\n",
      "4\n"
     ]
    }
   ],
   "source": [
    "print(type(ford))\n",
    "print(ford)\n",
    "# print(ford['wheels'])\n",
    "print(ford.wheels)"
   ]
  },
  {
   "cell_type": "markdown",
   "metadata": {},
   "source": [
    "##### Creating Multiple Instances"
   ]
  },
  {
   "cell_type": "code",
   "execution_count": 6,
   "metadata": {},
   "outputs": [],
   "source": [
    "chevy = Car()\n",
    "aston = Car()"
   ]
  },
  {
   "cell_type": "code",
   "execution_count": 8,
   "metadata": {},
   "outputs": [
    {
     "name": "stdout",
     "output_type": "stream",
     "text": [
      "4 4\n"
     ]
    }
   ],
   "source": [
    "print(chevy.wheels, aston.wheels)"
   ]
  },
  {
   "cell_type": "code",
   "execution_count": 9,
   "metadata": {},
   "outputs": [],
   "source": [
    "aston.name = 'Martin'"
   ]
  },
  {
   "cell_type": "code",
   "execution_count": 10,
   "metadata": {},
   "outputs": [
    {
     "name": "stdout",
     "output_type": "stream",
     "text": [
      "Martin\n"
     ]
    }
   ],
   "source": [
    "print(aston.name)"
   ]
  },
  {
   "cell_type": "markdown",
   "metadata": {},
   "source": [
    "##### In-Class Exercise #1 - Create a Class 'Car' and Instantiate three different makes of cars"
   ]
  },
  {
   "cell_type": "code",
   "execution_count": 11,
   "metadata": {},
   "outputs": [],
   "source": [
    "class Comp():\n",
    "    hardware = True\n",
    "    software = 10\n",
    "    keyboard = None\n",
    "    \n",
    "mac = Comp()\n",
    "pc = Comp()\n",
    "linny = Comp()"
   ]
  },
  {
   "cell_type": "markdown",
   "metadata": {},
   "source": [
    "## The \\__init\\__() Method <br>\n",
    "<p>This method is used in almost every created class, and called only once upon the creation of the class instance. This method will initialize all variables needed for the object.</p>"
   ]
  },
  {
   "cell_type": "code",
   "execution_count": 17,
   "metadata": {},
   "outputs": [
    {
     "name": "stdout",
     "output_type": "stream",
     "text": [
      "rubber 4\n",
      "rubber 5\n"
     ]
    }
   ],
   "source": [
    "class Car():\n",
    "    wheels = 4 #initializing an attr\n",
    "    \n",
    "    def __init__(self, doors, sunroof = False): #setting defaults\n",
    "        self.doors = doors\n",
    "        self.sunroof = sunroof\n",
    "        self.tires = 'rubber'\n",
    "plymouth = Car(4)\n",
    "print(plymouth.tires, plymouth.wheels)\n",
    "plymouth.wheels = 5\n",
    "print(plymouth.tires, plymouth.wheels)"
   ]
  },
  {
   "cell_type": "code",
   "execution_count": null,
   "metadata": {},
   "outputs": [],
   "source": [
    "class Classy():\n",
    "    def __init__(self):\n",
    "        self.attr = True"
   ]
  },
  {
   "cell_type": "markdown",
   "metadata": {},
   "source": [
    "##### The 'self' Attribute <br>\n",
    "<p>This attribute is required to keep track of specific instance's attributes. Without the self attribute, the program would not know how to reference or keep track of an instance's attributes.</p>"
   ]
  },
  {
   "cell_type": "code",
   "execution_count": null,
   "metadata": {},
   "outputs": [],
   "source": [
    "# see above"
   ]
  },
  {
   "cell_type": "markdown",
   "metadata": {},
   "source": [
    "## Class Attributes <br>\n",
    "<p>While variables are inside of a class, they are referred to as attributes and not variables. When someone says 'attribute' you know they're speaking about a class. Attributes can be initialized through the init method, or outside of it.</p>"
   ]
  },
  {
   "cell_type": "markdown",
   "metadata": {},
   "source": [
    "##### Initializing Attributes"
   ]
  },
  {
   "cell_type": "code",
   "execution_count": null,
   "metadata": {},
   "outputs": [],
   "source": [
    "# see above"
   ]
  },
  {
   "cell_type": "markdown",
   "metadata": {},
   "source": [
    "##### Accessing Class Attributes"
   ]
  },
  {
   "cell_type": "code",
   "execution_count": null,
   "metadata": {
    "scrolled": true
   },
   "outputs": [],
   "source": [
    "# See Above\n"
   ]
  },
  {
   "cell_type": "markdown",
   "metadata": {},
   "source": [
    "##### Setting Defaults for Attributes"
   ]
  },
  {
   "cell_type": "code",
   "execution_count": null,
   "metadata": {},
   "outputs": [],
   "source": [
    "# See Above"
   ]
  },
  {
   "cell_type": "markdown",
   "metadata": {},
   "source": [
    "##### Changing Class Attributes <br>\n",
    "<p>Keep in mind there are global class attributes and then there are attributes only available to each class instance which won't effect other classes.</p>"
   ]
  },
  {
   "cell_type": "code",
   "execution_count": 18,
   "metadata": {},
   "outputs": [],
   "source": [
    "# plymouth = Car(4)\n",
    "# print(plymouth.tires, plymouth.wheels)\n",
    "# plymouth.wheels = 5\n",
    "# print(plymouth.tires, plymouth.wheels)\n",
    "plymouth.old = True"
   ]
  },
  {
   "cell_type": "code",
   "execution_count": null,
   "metadata": {},
   "outputs": [],
   "source": []
  },
  {
   "cell_type": "markdown",
   "metadata": {},
   "source": [
    "##### In-Class Exercise #2 - Add a doors and seats attribute to your 'Car' class then print out two different instances with different doors and seats"
   ]
  },
  {
   "cell_type": "code",
   "execution_count": null,
   "metadata": {},
   "outputs": [],
   "source": [
    "class Car():\n",
    "    wheels = 4 #initializing an attr\n",
    "    \n",
    "    def __init__(self, doors, sunroof = False): #setting defaults\n",
    "        self.doors = doors\n",
    "        self.sunroof = sunroof\n",
    "        self.tires = 'rubber'\n",
    "        self.seats = 'leather'\n",
    "        \n"
   ]
  },
  {
   "cell_type": "markdown",
   "metadata": {},
   "source": [
    "## Class Methods <br>\n",
    "<p>While inside of a class, functions are referred to as 'methods'. If you hear someone mention methods, they're speaking about classes. Methods are essentially functions, but only callable on the instances of a class.</p>"
   ]
  },
  {
   "cell_type": "markdown",
   "metadata": {},
   "source": [
    "##### Creating"
   ]
  },
  {
   "cell_type": "code",
   "execution_count": 34,
   "metadata": {},
   "outputs": [
    {
     "name": "stdout",
     "output_type": "stream",
     "text": [
      "56\n",
      "98\n",
      "a to add, r to remove, c to check gas, f to fill, b to check bed, q to quit: f\n",
      "How much did you put in? 50\n",
      "added 50 gallons\n",
      "84\n",
      "a to add, r to remove, c to check gas, f to fill, b to check bed, q to quit: c\n",
      "84\n",
      "a to add, r to remove, c to check gas, f to fill, b to check bed, q to quit: b\n",
      "Nuthin back there!\n",
      "a to add, r to remove, c to check gas, f to fill, b to check bed, q to quit: a\n",
      "What junk did you just pick up? racoon\n",
      "a to add, r to remove, c to check gas, f to fill, b to check bed, q to quit: b\n",
      "racoon\n",
      "a to add, r to remove, c to check gas, f to fill, b to check bed, q to quit: q\n"
     ]
    }
   ],
   "source": [
    "class Pickup():\n",
    "    \"\"\"\n",
    "    This is the hillbilly shopping cart!\n",
    "    \"\"\"\n",
    "    def __init__(self, wheels, gas_tank):\n",
    "        self.wheels = 4\n",
    "        self.gas_tank = gas_tank\n",
    "        self.bed = []\n",
    "        \n",
    "    def check_tank(self):\n",
    "        print(self.gas_tank)\n",
    "        \n",
    "    def check_bed(self):\n",
    "        if self.bed:\n",
    "            for item in self.bed:\n",
    "                print(item)\n",
    "        else:\n",
    "            print('Nuthin back there!')\n",
    "    def chuck_in_back(self):\n",
    "        junk = input('What junk did you just pick up? ')\n",
    "        self.bed.append(junk)\n",
    "    \n",
    "    def touss_out(self):\n",
    "        toss = input('What you gonna get rid of? ')\n",
    "        self.bed.remove(toss)\n",
    "        \n",
    "    def filler_up(self):\n",
    "        gallons = int(input('How much did you put in? '))\n",
    "        self.gas_tank += gallons\n",
    "        print(f'added {gallons} gallons')\n",
    "        self.check_tank()\n",
    "        \n",
    "    def run(self):\n",
    "        while True:\n",
    "            menu = input('a to add, r to remove, c to check gas, f to fill, b to check bed, q to quit: ')\n",
    "            if menu == 'a':\n",
    "                self.chuck_in_back()\n",
    "            elif menu == 'r':\n",
    "                self.toss_out()\n",
    "            elif menu == 'f':\n",
    "                self.filler_up()\n",
    "            elif menu == 'b':\n",
    "                self.check_bed()\n",
    "            elif menu == 'c':\n",
    "                self.check_tank()\n",
    "            elif menu == 'q':\n",
    "                break\n",
    "            else:\n",
    "                print('incorrect option')\n",
    "                \n",
    "    \n",
    "    \n",
    "p = Pickup(4, 56)\n",
    "# Pickup.method(parameters) syntax reminder!\n",
    "p.check_tank()\n",
    "\n",
    "chev = Pickup(4, 98)\n",
    "chev.check_tank()\n",
    "\n",
    "f150 = Pickup(4, 34)\n",
    "f150.run()\n",
    "        "
   ]
  },
  {
   "cell_type": "markdown",
   "metadata": {},
   "source": [
    "##### Calling"
   ]
  },
  {
   "cell_type": "code",
   "execution_count": null,
   "metadata": {},
   "outputs": [],
   "source": [
    "# See Above"
   ]
  },
  {
   "cell_type": "markdown",
   "metadata": {},
   "source": [
    "##### Modifying an Attribute's Value Through a Method"
   ]
  },
  {
   "cell_type": "code",
   "execution_count": null,
   "metadata": {},
   "outputs": [],
   "source": [
    "#kind link chuck_in _back for example"
   ]
  },
  {
   "cell_type": "markdown",
   "metadata": {},
   "source": [
    "##### Incrementing an Attribute's Value Through a Method"
   ]
  },
  {
   "cell_type": "code",
   "execution_count": null,
   "metadata": {},
   "outputs": [],
   "source": [
    "#kind like filler_up"
   ]
  },
  {
   "cell_type": "markdown",
   "metadata": {},
   "source": [
    "##### In-Class Exercise #3 - Add a method that takes in three parameters of year, doors and seats and prints out a formatted print statement with make, model, year, seats, and doors"
   ]
  },
  {
   "cell_type": "code",
   "execution_count": 41,
   "metadata": {},
   "outputs": [
    {
     "name": "stdout",
     "output_type": "stream",
     "text": [
      "This car is a Tesla Model Y from 2022 and has 4 doors and 4 seats \n"
     ]
    }
   ],
   "source": [
    "# Create class with 2 paramters inside of the __init__ which are make and model\n",
    "\n",
    "# Inside of the Car class create a method that has 4 parameter in total (self,year,door,seats)\n",
    "\n",
    "# Output: This car is from 2019 and is a Ford Expolorer and has 4 doors and 5 seats\n",
    "class newCar():\n",
    "    def __init__(self,make,model):\n",
    "        self.make = make\n",
    "        self.model = model\n",
    "        \n",
    "    def print_details(self,year, doors, seats):\n",
    "        print(f'This car is a {self.make} {self.model} from {year} and has {doors} doors and {seats} seats ')\n",
    "    \n",
    "tesla = newCar('Tesla', 'Model Y')\n",
    "tesla.print_details(2022, 4, 4)\n",
    "\n"
   ]
  },
  {
   "cell_type": "markdown",
   "metadata": {},
   "source": [
    "## Inheritance <br>\n",
    "<p>You can create a child-parent relationship between two classes by using inheritance. What this allows you to do is have overriding methods, but also inherit traits from the parent class. Think of it as an actual parent and child, the child will inherit the parent's genes, as will the classes in OOP</p>"
   ]
  },
  {
   "cell_type": "markdown",
   "metadata": {},
   "source": [
    "##### Syntax for Inheriting from a Parent Class"
   ]
  },
  {
   "cell_type": "code",
   "execution_count": 47,
   "metadata": {},
   "outputs": [
    {
     "name": "stdout",
     "output_type": "stream",
     "text": [
      "WOOF woof woof woof\n",
      "WOOF!\n"
     ]
    }
   ],
   "source": [
    "class Mammal():\n",
    "    warm_blooded = True\n",
    "    \n",
    "    def __init__(self,name,species, legs = 4):\n",
    "        self.name = name\n",
    "        self.species = species\n",
    "        self.legs = legs\n",
    "        \n",
    "    def breathe(self):\n",
    "        print('.....Breathe.....')\n",
    "        \n",
    "class Cat(Mammal):\n",
    "    pass\n",
    "\n",
    "class Dog(Mammal):\n",
    "    loyal = True\n",
    "    \n",
    "    def bark(self):\n",
    "        print('WOOF!')\n",
    "        \n",
    "class Mutt(Dog):\n",
    "    color = 'Brown'\n",
    "    \n",
    "    def __init__(self, name, species, tails, legs = 5):\n",
    "        Dog.__init__(self, name, species, legs)\n",
    "        self.tails = tails\n",
    "    def make_sound(self):\n",
    "        print(\"WOOF woof woof woof\")\n",
    "        \n",
    "fido = Dog('Fido', 'Pompom')\n",
    "rex = Mutt('rex', 'Lab Mix', False)\n",
    "whale = Mammal('Willy', 'Orca')\n",
    "\n",
    "rex.make_sound()\n",
    "fido.bark()\n",
    "        "
   ]
  },
  {
   "cell_type": "markdown",
   "metadata": {},
   "source": [
    "##### The \\__init\\__() Method for a Child Class - super()"
   ]
  },
  {
   "cell_type": "code",
   "execution_count": 52,
   "metadata": {
    "scrolled": true
   },
   "outputs": [
    {
     "ename": "TypeError",
     "evalue": "Mammal.__init__() takes from 3 to 4 positional arguments but 5 were given",
     "output_type": "error",
     "traceback": [
      "\u001b[0;31m---------------------------------------------------------------------------\u001b[0m",
      "\u001b[0;31mTypeError\u001b[0m                                 Traceback (most recent call last)",
      "Cell \u001b[0;32mIn[52], line 10\u001b[0m\n\u001b[1;32m      7\u001b[0m     \u001b[38;5;28;01mdef\u001b[39;00m \u001b[38;5;21mmake_sound\u001b[39m(\u001b[38;5;28mself\u001b[39m):\n\u001b[1;32m      8\u001b[0m         \u001b[38;5;28mprint\u001b[39m(\u001b[38;5;124m'\u001b[39m\u001b[38;5;124mWOOF woof woof\u001b[39m\u001b[38;5;124m'\u001b[39m)\n\u001b[0;32m---> 10\u001b[0m rex2 \u001b[38;5;241m=\u001b[39m Mutt(\u001b[38;5;124m'\u001b[39m\u001b[38;5;124mRex2\u001b[39m\u001b[38;5;124m'\u001b[39m, \u001b[38;5;124m'\u001b[39m\u001b[38;5;124mChiuaua\u001b[39m\u001b[38;5;124m'\u001b[39m, \u001b[38;5;28;01mFalse\u001b[39;00m)\n\u001b[1;32m     11\u001b[0m rex2\u001b[38;5;241m.\u001b[39mmake_sound()\n",
      "Cell \u001b[0;32mIn[52], line 5\u001b[0m, in \u001b[0;36mMutt.__init__\u001b[0;34m(self, name, species, tail, legs)\u001b[0m\n\u001b[1;32m      4\u001b[0m \u001b[38;5;28;01mdef\u001b[39;00m \u001b[38;5;21m__init__\u001b[39m(\u001b[38;5;28mself\u001b[39m, name, species, tail, legs \u001b[38;5;241m=\u001b[39m \u001b[38;5;241m5\u001b[39m):\n\u001b[0;32m----> 5\u001b[0m     \u001b[38;5;28msuper\u001b[39m()\u001b[38;5;241m.\u001b[39m\u001b[38;5;21m__init__\u001b[39m(\u001b[38;5;28mself\u001b[39m, name, species, legs)\n\u001b[1;32m      6\u001b[0m     \u001b[38;5;28mself\u001b[39m\u001b[38;5;241m.\u001b[39mtail \u001b[38;5;241m=\u001b[39m tail\n",
      "\u001b[0;31mTypeError\u001b[0m: Mammal.__init__() takes from 3 to 4 positional arguments but 5 were given"
     ]
    }
   ],
   "source": [
    "class Mutt(Dog):\n",
    "    color = 'Brown'\n",
    "    \n",
    "    def __init__(self, name, species, tail, legs = 5):\n",
    "        super().__init__(self, name, species, legs)\n",
    "        self.tail = tail\n",
    "    def make_sound(self):\n",
    "        print('WOOF woof woof')\n",
    "        \n",
    "rex2 = Mutt('Rex2', 'Chiuaua', False)\n",
    "rex2.make_sound()"
   ]
  },
  {
   "cell_type": "markdown",
   "metadata": {},
   "source": [
    "##### Defining Attributes and Methods for the Child Class"
   ]
  },
  {
   "cell_type": "code",
   "execution_count": null,
   "metadata": {},
   "outputs": [],
   "source": [
    "# See Above"
   ]
  },
  {
   "cell_type": "markdown",
   "metadata": {},
   "source": [
    "##### Method Overriding"
   ]
  },
  {
   "cell_type": "code",
   "execution_count": null,
   "metadata": {},
   "outputs": [],
   "source": [
    "# See Above"
   ]
  },
  {
   "cell_type": "markdown",
   "metadata": {},
   "source": [
    "## Classes as Attributes <br>\n",
    "<p>Classes can also be used as attributes within another class. This is useful in situations where you need to keep variables locally stored, instead of globally stored.</p>"
   ]
  },
  {
   "cell_type": "code",
   "execution_count": 56,
   "metadata": {},
   "outputs": [
    {
     "data": {
      "text/plain": [
       "'This car: Tesla M with a battery featuring 24 112'"
      ]
     },
     "execution_count": 56,
     "metadata": {},
     "output_type": "execute_result"
    }
   ],
   "source": [
    "class Battery():\n",
    "    def __init__(self, cells):\n",
    "        self.cells = cells\n",
    "        self.amperage = 112\n",
    "class Electric_car():\n",
    "    def __init__(self, make, model, battery):\n",
    "        self.make = make\n",
    "        self.model = model\n",
    "        self.battery = battery\n",
    "        \n",
    "    def print_info(self):\n",
    "        return f'This car: {self.make} {self.model} with a battery featuring {self.battery.cells} {self.battery.amperage}'\n",
    "\n",
    "bat = Battery(24)\n",
    "tesla = Electric_car('Tesla', 'M', bat)\n",
    "tesla.print_info()"
   ]
  },
  {
   "cell_type": "markdown",
   "metadata": {},
   "source": [
    "# Exercises"
   ]
  },
  {
   "cell_type": "markdown",
   "metadata": {},
   "source": [
    "### Exercise 1 - Turn the shopping cart program from yesterday into an object-oriented program\n",
    "\n",
    "The comments in the cell below are there as a guide for thinking about the problem. However, if you feel a different way is best for you and your own thought process, please do what feels best for you by all means."
   ]
  },
  {
   "cell_type": "code",
   "execution_count": 2,
   "metadata": {},
   "outputs": [
    {
     "name": "stdout",
     "output_type": "stream",
     "text": [
      "a to add, s to show, r to remove, q to quit: a\n",
      "What item do you want to add?: banana\n",
      "How many items do you want to add?: 5\n",
      "a to add, s to show, r to remove, q to quit: a\n",
      "What item do you want to add?: butter\n",
      "How many items do you want to add?: 3\n",
      "a to add, s to show, r to remove, q to quit: a\n",
      "What item do you want to add?: milk\n",
      "How many items do you want to add?: 5\n",
      "a to add, s to show, r to remove, q to quit: r\n",
      "What item do you want to delete?: banana\n",
      "How many?: 2\n",
      "You now have 3 of banana in your cart\n",
      "a to add, s to show, r to remove, q to quit: s\n",
      "there are 3 banana in your cart\n",
      "there are 3 butter in your cart\n",
      "there are 5 milk in your cart\n",
      "a to add, s to show, r to remove, q to quit: q\n"
     ]
    }
   ],
   "source": [
    "# Create a class called cart that retains items and has methods to add, remove, and show\n",
    "\n",
    "class Cart():\n",
    "    def __init__(self):\n",
    "        self.shopping_list = {}\n",
    "        \n",
    "    def add_item(self, item, qty):\n",
    "        self.shopping_list[item] = qty\n",
    "    \n",
    "    def delete_item(self, item, qty):\n",
    "        if item in self.shopping_list:\n",
    "            self.shopping_list[item] -= qty\n",
    "            if self.shopping_list[item] < 1:\n",
    "                del(self.shopping_list[item])\n",
    "                print(f'{item} removed from cart')\n",
    "            else:\n",
    "                print(f'You now have {self.shopping_list[item]} of {item} in your cart')\n",
    "    def show_items(self):\n",
    "        for k,v in self.shopping_list.items():\n",
    "            print(f'there are {v} {k} in your cart')\n",
    "\n",
    "# cart = Cart()\n",
    "# cart.add_item('banana', '100')\n",
    "# cart.add_item('butter', '2')\n",
    "# cart.show_item()\n",
    "    def run(self):\n",
    "        while True:\n",
    "            menu = input('a to add, s to show, r to remove, q to quit: ')\n",
    "            if menu == 'a':\n",
    "                item = input('What item do you want to add?: ')\n",
    "                quan = int(input('How many items do you want to add?: '))\n",
    "                self.add_item(item, quan)\n",
    "            elif menu == 'r':\n",
    "                remove_item = input('What item do you want to delete?: ')\n",
    "                quan = int(input('How many?: '))\n",
    "                self.delete_item(remove_item, quan)\n",
    "            elif menu == 's':\n",
    "                self.show_items()\n",
    "            elif menu == 'q':\n",
    "                break\n",
    "            else:\n",
    "                print('incorrect option')\n",
    "cart = Cart()\n",
    "cart.run()\n",
    "    "
   ]
  },
  {
   "cell_type": "markdown",
   "metadata": {},
   "source": [
    "### Exercise 2 - Write a Python class which has two methods get_String and print_String. get_String accept a string from the user and print_String print the string in upper case"
   ]
  },
  {
   "cell_type": "code",
   "execution_count": 59,
   "metadata": {},
   "outputs": [
    {
     "name": "stdout",
     "output_type": "stream",
     "text": [
      "Enter your str: Tan\n",
      "TAN\n"
     ]
    }
   ],
   "source": [
    "class input_string():\n",
    "    def __init__(self):\n",
    "        self.str = \"\"\n",
    "    def get_String(self):\n",
    "        self.str = input(\"Enter your str: \")\n",
    "    def print_String(self):\n",
    "        print(self.str.upper())\n",
    "        \n",
    "str1 = input_string()\n",
    "str1.get_String()\n",
    "str1.print_String()"
   ]
  },
  {
   "cell_type": "code",
   "execution_count": null,
   "metadata": {},
   "outputs": [],
   "source": []
  }
 ],
 "metadata": {
  "kernelspec": {
   "display_name": "Python 3 (ipykernel)",
   "language": "python",
   "name": "python3"
  },
  "language_info": {
   "codemirror_mode": {
    "name": "ipython",
    "version": 3
   },
   "file_extension": ".py",
   "mimetype": "text/x-python",
   "name": "python",
   "nbconvert_exporter": "python",
   "pygments_lexer": "ipython3",
   "version": "3.11.5"
  }
 },
 "nbformat": 4,
 "nbformat_minor": 2
}
